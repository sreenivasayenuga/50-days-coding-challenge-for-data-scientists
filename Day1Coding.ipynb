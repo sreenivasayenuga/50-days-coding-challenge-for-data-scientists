{
  "cells": [
    {
      "cell_type": "code",
      "execution_count": null,
      "metadata": {
        "colab": {
          "base_uri": "https://localhost:8080/"
        },
        "id": "MXqleAx_hKuj",
        "outputId": "3d2598a8-bce5-4ec6-d600-f45d0ec02a6c"
      },
      "outputs": [
        {
          "name": "stdout",
          "output_type": "stream",
          "text": [
            "Requirement already satisfied: pandas in /usr/local/lib/python3.12/dist-packages (2.2.2)\n",
            "Requirement already satisfied: matplotlib in /usr/local/lib/python3.12/dist-packages (3.10.0)\n",
            "Requirement already satisfied: openpyxl in /usr/local/lib/python3.12/dist-packages (3.1.5)\n",
            "Requirement already satisfied: numpy>=1.26.0 in /usr/local/lib/python3.12/dist-packages (from pandas) (2.0.2)\n",
            "Requirement already satisfied: python-dateutil>=2.8.2 in /usr/local/lib/python3.12/dist-packages (from pandas) (2.9.0.post0)\n",
            "Requirement already satisfied: pytz>=2020.1 in /usr/local/lib/python3.12/dist-packages (from pandas) (2025.2)\n",
            "Requirement already satisfied: tzdata>=2022.7 in /usr/local/lib/python3.12/dist-packages (from pandas) (2025.2)\n",
            "Requirement already satisfied: contourpy>=1.0.1 in /usr/local/lib/python3.12/dist-packages (from matplotlib) (1.3.3)\n",
            "Requirement already satisfied: cycler>=0.10 in /usr/local/lib/python3.12/dist-packages (from matplotlib) (0.12.1)\n",
            "Requirement already satisfied: fonttools>=4.22.0 in /usr/local/lib/python3.12/dist-packages (from matplotlib) (4.59.2)\n",
            "Requirement already satisfied: kiwisolver>=1.3.1 in /usr/local/lib/python3.12/dist-packages (from matplotlib) (1.4.9)\n",
            "Requirement already satisfied: packaging>=20.0 in /usr/local/lib/python3.12/dist-packages (from matplotlib) (25.0)\n",
            "Requirement already satisfied: pillow>=8 in /usr/local/lib/python3.12/dist-packages (from matplotlib) (11.3.0)\n",
            "Requirement already satisfied: pyparsing>=2.3.1 in /usr/local/lib/python3.12/dist-packages (from matplotlib) (3.2.3)\n",
            "Requirement already satisfied: et-xmlfile in /usr/local/lib/python3.12/dist-packages (from openpyxl) (2.0.0)\n",
            "Requirement already satisfied: six>=1.5 in /usr/local/lib/python3.12/dist-packages (from python-dateutil>=2.8.2->pandas) (1.17.0)\n"
          ]
        }
      ],
      "source": [
        "!pip install pandas matplotlib openpyxl"
      ]
    },
    {
      "cell_type": "code",
      "execution_count": null,
      "metadata": {
        "id": "0ULtpp-7hpKb"
      },
      "outputs": [],
      "source": [
        "# Install dependencies if needed (run this first in Colab)\n",
        "# !pip install pandas matplotlib openpyxl\n",
        "\n",
        "import pandas as pd\n",
        "import matplotlib.pyplot as plt\n",
        "from io import StringIO\n",
        "%matplotlib inline\n",
        "# For inline plots in Colab"
      ]
    },
    {
      "cell_type": "code",
      "execution_count": 7,
      "metadata": {
        "id": "KPVM8dvRh0iI"
      },
      "outputs": [],
      "source": [
        "# Embed the full CSV data (from provided document)\n",
        "csv_data = \"\"\"\n",
        "Household_ID,Family_Size,Monthly_Income,Electricity_Usage (kWh),Gas_Usage,Appliances_Count,Month\n",
        "H001,7,85318,103,105,6,Mar\n",
        "H002,4,43664,115,79,10,Feb\n",
        "H003,5,87172,379,158,2,Feb\n",
        "H004,7,46736,435,54,10,Jun\n",
        "H005,3,20854,346,168,12,Dec\n",
        "H006,5,58623,357,82,9,Jan\n",
        "H007,5,27392,483,167,7,Feb\n",
        "H008,7,75680,259,114,8,Jun\n",
        "H009,2,66717,439,195,4,Mar\n",
        "H010,3,70859,251,60,2,Apr\n",
        "H011,7,46309,495,134,6,Jan\n",
        "H012,3,83734,277,75,13,Aug\n",
        "H013,3,90467,262,112,13,Jul\n",
        "H014,5,72662,479,135,3,Jul\n",
        "H015,4,32688,132,108,6,Mar\n",
        "H016,3,45342,278,76,9,Oct\n",
        "H017,6,57157,200,147,12,Oct\n",
        "H018,5,87863,367,154,10,Mar\n",
        "H019,2,72083,422,148,3,Feb\n",
        "H020,4,85733,164,178,13,Dec\n",
        "H021,6,54698,267,198,4,Jan\n",
        "H022,6,42671,429,104,4,Jul\n",
        "H023,2,45184,142,55,2,Jul\n",
        "H024,4,62107,143,144,9,Dec\n",
        "H025,5,71663,384,182,7,Feb\n",
        "H026,1,35708,496,151,13,Jul\n",
        "H027,4,69811,111,52,14,Aug\n",
        "H028,2,22811,194,72,9,Jan\n",
        "H029,6,76250,401,102,12,Sep\n",
        "H030,5,92082,485,132,10,Jul\n",
        "H031,4,54754,352,194,6,Mar\n",
        "H032,1,31411,341,134,13,Aug\n",
        "H033,1,22911,134,127,4,Jul\n",
        "H034,3,87270,314,159,6,Nov\n",
        "H035,3,28680,436,50,6,Aug\n",
        "H036,7,91295,189,100,6,Jun\n",
        "H037,2,31111,363,53,4,Sep\n",
        "H038,4,57504,192,162,12,May\n",
        "H039,4,21802,189,81,11,Mar\n",
        "H040,7,28155,214,83,5,Mar\n",
        "H041,6,93656,204,141,10,Jan\n",
        "H042,6,59384,490,144,14,Dec\n",
        "H043,7,67254,295,121,11,Aug\n",
        "H044,6,41918,413,88,10,Feb\n",
        "H045,3,80713,213,167,3,Mar\n",
        "H046,4,50306,174,52,9,Aug\n",
        "H047,7,36646,475,172,9,Aug\n",
        "H048,4,66843,316,99,8,Nov\n",
        "H049,1,36371,376,61,9,Apr\n",
        "H050,3,97371,348,103,4,Apr\n",
        "H051,5,22049,263,182,14,May\n",
        "H052,3,51616,493,106,7,Jun\n",
        "H053,7,40932,456,194,2,May\n",
        "H054,5,49855,291,161,8,Jul\n",
        "H055,1,81434,326,96,2,Feb\n",
        "H056,7,92694,276,200,10,Jul\n",
        "H057,2,63016,198,134,2,Oct\n",
        "H058,4,27400,135,191,2,Jul\n",
        "H059,1,62642,195,115,8,Jan\n",
        "H060,4,35151,251,124,3,Jul\n",
        "H061,6,71407,250,152,6,May\n",
        "H062,2,86690,289,87,9,Mar\n",
        "H063,2,24499,323,99,9,Mar\n",
        "H064,1,26295,136,147,4,Apr\n",
        "H065,2,79040,367,131,8,Dec\n",
        "H066,5,32183,468,79,4,Feb\n",
        "H067,2,49299,282,128,7,Feb\n",
        "H068,4,32874,112,140,7,Jan\n",
        "H069,4,52711,378,101,4,May\n",
        "H070,7,25539,316,128,8,Apr\n",
        "H071,4,73351,454,79,4,Nov\n",
        "H072,7,81267,460,155,9,Oct\n",
        "H073,4,68354,385,100,11,Feb\n",
        "H074,5,22557,372,130,5,Mar\n",
        "H075,7,58360,468,182,14,Jul\n",
        "H076,3,22200,161,78,2,Jul\n",
        "H077,6,88497,183,181,5,Dec\n",
        "H078,1,66975,467,187,8,Apr\n",
        "H079,4,41357,316,194,12,May\n",
        "H080,2,97505,441,123,5,May\n",
        "H081,4,22869,496,66,14,Jun\n",
        "H082,2,81135,286,133,7,Sep\n",
        "H083,6,70108,118,118,10,Feb\n",
        "H084,6,58467,276,83,2,May\n",
        "H085,6,43328,199,55,14,Dec\n",
        "H086,2,23987,495,102,6,Mar\n",
        "H087,4,78871,332,175,12,Apr\n",
        "H088,6,42399,175,92,8,Oct\n",
        "H089,5,66214,364,164,2,Jun\n",
        "H090,7,90271,383,160,5,Dec\n",
        "H091,2,64064,305,200,7,Aug\n",
        "H092,2,90091,322,129,3,Jan\n",
        "H093,4,60818,483,144,11,Oct\n",
        "H094,2,65525,151,167,6,Aug\n",
        "H095,2,39830,438,193,12,Nov\n",
        "H096,6,37429,466,57,11,Jul\n",
        "H097,4,26893,243,181,2,Jan\n",
        "H098,6,99909,472,153,7,Feb\n",
        "H099,7,67333,168,181,7,Mar\n",
        "H100,7,23436,198,74,14,Jan\n",
        "H101,6,94290,495,145,5,Sep\n",
        "H102,7,96213,124,142,14,Aug\n",
        "H103,4,25895,478,110,9,Feb\n",
        "H104,1,39738,152,171,5,Sep\n",
        "H105,6,50746,250,100,9,Jul\n",
        "H106,5,69377,243,196,14,Sep\n",
        "H107,5,68404,156,70,9,Jun\n",
        "H108,2,74045,138,54,6,Jun\n",
        "H109,7,59790,208,141,14,Nov\n",
        "H110,5,25600,280,110,5,Apr\n",
        "H111,2,60764,141,71,13,Oct\n",
        "H112,1,94543,285,198,14,Oct\n",
        "H113,4,65714,497,119,3,Feb\n",
        "H114,4,76835,322,50,12,Jul\n",
        "H115,4,93744,221,182,4,May\n",
        "H116,5,76491,232,61,4,Nov\n",
        "H117,1,38589,262,139,5,Jun\n",
        "H118,5,63484,314,95,5,Feb\n",
        "H119,7,56212,320,83,11,May\n",
        "H120,5,63525,334,127,12,Oct\n",
        "H121,1,67202,430,94,12,Apr\n",
        "H122,1,52635,245,122,6,Sep\n",
        "H123,7,83208,338,75,5,Jun\n",
        "H124,1,53828,175,96,12,Feb\n",
        "H125,1,38711,108,170,11,Jan\n",
        "H126,4,23420,173,105,9,May\n",
        "H127,7,20301,500,143,7,Sep\n",
        "H128,3,65236,352,156,7,Jun\n",
        "H129,3,86235,329,112,9,Oct\n",
        "H130,1,74240,106,97,8,Dec\n",
        "H131,3,85726,273,110,11,Jul\n",
        "H132,3,30492,240,130,12,May\n",
        "H133,1,26102,267,75,13,Oct\n",
        "H134,3,70336,269,85,11,Jun\n",
        "H135,5,46641,492,50,14,May\n",
        "H136,2,54584,382,57,9,Nov\n",
        "H137,7,52745,221,162,3,Sep\n",
        "H138,2,43093,293,148,10,Jun\n",
        "H139,1,86105,104,96,2,Nov\n",
        "H140,4,71885,128,176,9,Aug\n",
        "H141,7,56631,264,105,13,Feb\n",
        "H142,1,92991,438,63,12,Dec\n",
        "H143,4,24014,235,77,13,Sep\n",
        "H144,2,31093,464,127,13,May\n",
        "H145,1,38070,420,179,5,Jul\n",
        "H146,7,55777,441,158,5,Oct\n",
        "H147,7,76958,244,63,6,Jan\n",
        "H148,6,30729,426,105,9,Oct\n",
        "H149,5,65017,316,164,6,May\n",
        "H150,3,86320,400,56,9,Dec\n",
        "H151,4,47751,231,52,11,Oct\n",
        "H152,6,98069,391,160,2,Feb\n",
        "H153,3,74748,169,200,13,Dec\n",
        "H154,3,25801,351,156,11,Jun\n",
        "H155,1,39190,374,67,10,Nov\n",
        "H156,3,69689,463,87,7,Jan\n",
        "H157,5,70993,281,164,4,Mar\n",
        "H158,7,49592,266,64,14,May\n",
        "H159,6,30647,190,168,9,Apr\n",
        "H160,3,28716,301,77,10,Mar\n",
        "H161,1,90316,445,88,7,Oct\n",
        "H162,5,22368,118,66,12,May\n",
        "H163,2,97575,138,135,8,Nov\n",
        "H164,7,26655,225,175,2,Aug\n",
        "H165,7,90031,272,93,6,Nov\n",
        "H166,6,96429,240,74,6,Apr\n",
        "H167,7,75766,341,194,11,Jan\n",
        "H168,3,33403,319,62,5,Nov\n",
        "H169,1,52097,225,74,7,Jul\n",
        "H170,7,98657,157,117,8,Aug\n",
        "H171,7,30966,247,187,10,Mar\n",
        "H172,2,72921,416,116,2,Jun\n",
        "H173,2,69726,482,158,7,Feb\n",
        "H174,4,70300,460,195,8,Jul\n",
        "H175,5,42677,100,160,4,Aug\n",
        "H176,3,75609,486,160,9,Jun\n",
        "H177,7,76661,447,83,6,Jun\n",
        "H178,7,51024,289,160,10,May\n",
        "H179,1,90313,290,57,6,Aug\n",
        "H180,4,73006,468,162,10,Jan\n",
        "H181,5,35338,411,132,11,Oct\n",
        "H182,4,88027,216,91,5,Apr\n",
        "H183,6,39508,233,150,10,Apr\n",
        "H184,5,23051,157,55,6,Mar\n",
        "H185,7,68747,143,75,11,Mar\n",
        "H186,7,74021,272,113,10,Apr\n",
        "H187,5,86412,259,108,4,Nov\n",
        "H188,7,78335,272,158,5,Jan\n",
        "H189,3,76179,416,170,10,Nov\n",
        "H190,5,52093,402,82,11,Nov\n",
        "H191,4,89678,248,199,12,Feb\n",
        "H192,5,59734,179,70,7,Sep\n",
        "H193,7,92615,473,119,3,Oct\n",
        "H194,3,93523,312,161,8,Feb\n",
        "H195,3,37019,302,53,3,May\n",
        "H196,6,93847,351,143,12,Sep\n",
        "H197,4,99634,328,124,3,Sep\n",
        "H198,2,48251,263,111,12,Aug\n",
        "H199,2,45945,326,143,2,Jan\n",
        "H200,5,52217,246,144,12,Jan\n",
        "H201,6,28308,119,104,12,Sep\n",
        "H202,1,25949,146,186,13,Nov\n",
        "H203,5,71990,332,180,12,Aug\n",
        "H204,6,21150,404,80,4,Oct\n",
        "H205,4,94740,113,89,7,Sep\n",
        "H206,4,86617,242,85,9,Jul\n",
        "H207,4,36896,100,55,10,Mar\n",
        "H208,4,66175,472,115,8,Mar\n",
        "H209,4,27805,153,124,5,Feb\n",
        "H210,6,25237,473,53,7,May\n",
        "H211,6,40056,358,128,6,Dec\n",
        "H212,3,65543,243,183,9,Dec\n",
        "H213,2,76556,111,167,2,Mar\n",
        "H214,7,23343,429,162,2,Jun\n",
        "H215,4,33500,323,143,14,Feb\n",
        "H216,1,73222,371,111,12,Dec\n",
        "H217,7,49375,457,128,7,Mar\n",
        "H218,6,29662,255,185,11,May\n",
        "H219,1,36964,472,75,13,Dec\n",
        "H220,1,79638,107,93,3,Nov\n",
        "H221,1,93666,221,182,6,Nov\n",
        "H222,3,87215,447,119,2,Jan\n",
        "H223,6,89042,263,167,8,Jan\n",
        "H224,1,33284,189,117,2,Oct\n",
        "H225,4,92789,235,68,5,Sep\n",
        "H226,5,81389,285,69,10,Jul\n",
        "H227,1,29435,415,162,2,Jan\n",
        "H228,3,74340,277,189,5,Dec\n",
        "H229,7,64078,127,96,7,Aug\n",
        "H230,6,98832,319,50,7,Mar\n",
        "H231,3,71293,456,139,13,Aug\n",
        "H232,1,98781,140,191,14,May\n",
        "H233,6,80403,327,113,9,Jan\n",
        "H234,5,49124,291,87,2,Jul\n",
        "H235,1,63919,244,86,8,May\n",
        "H236,3,55247,300,175,2,Jun\n",
        "H237,2,82752,311,188,14,Jun\n",
        "H238,4,76573,319,149,8,Aug\n",
        "H239,7,79101,339,126,4,Sep\n",
        "H240,3,46646,496,52,12,Feb\n",
        "H241,6,43049,145,183,9,Sep\n",
        "H242,1,99605,134,59,4,Dec\n",
        "H243,4,88385,352,54,14,Nov\n",
        "H244,1,60158,489,200,2,Oct\n",
        "H245,6,85417,181,187,14,Sep\n",
        "H246,1,43289,470,179,14,Oct\n",
        "H247,2,29823,355,62,9,Oct\n",
        "H248,4,80160,296,179,4,Jul\n",
        "H249,4,61975,402,133,3,Jan\n",
        "H250,6,29540,109,114,2,Jul\n",
        "\"\"\""
      ]
    },
    {
      "cell_type": "code",
      "execution_count": 8,
      "metadata": {
        "id": "6mlGW3iqiGnA"
      },
      "outputs": [],
      "source": [
        "# Load into DataFrame\n",
        "df = pd.read_csv(StringIO(csv_data))\n",
        "df = df.rename(columns={'Electricity_Usage (kWh)': 'Electricity_Usage'})  # Clean column name"
      ]
    },
    {
      "cell_type": "code",
      "execution_count": 9,
      "metadata": {
        "id": "9ZG8IVVmibAg"
      },
      "outputs": [],
      "source": [
        "# Add Total Energy column\n",
        "df['Total_Energy'] = df['Electricity_Usage'] + df['Gas_Usage']"
      ]
    },
    {
      "cell_type": "code",
      "execution_count": 10,
      "metadata": {
        "id": "c2FdCwMuihXv"
      },
      "outputs": [],
      "source": [
        "# Step 3: Analyze patterns\n",
        "avg_electricity = df['Electricity_Usage'].mean()\n",
        "avg_gas = df['Gas_Usage'].mean()\n",
        "avg_total = df['Total_Energy'].mean()\n",
        "monthly_avg = df.groupby('Month')[['Electricity_Usage', 'Gas_Usage', 'Total_Energy']].mean()\n",
        "correlation_family = df['Family_Size'].corr(df['Total_Energy'])\n",
        "correlation_income = df['Monthly_Income'].corr(df['Total_Energy'])\n",
        "correlation_appliances = df['Appliances_Count'].corr(df['Total_Energy'])"
      ]
    },
    {
      "cell_type": "code",
      "execution_count": 11,
      "metadata": {
        "id": "0vFNTxqxik6Q"
      },
      "outputs": [],
      "source": [
        "# Step 4: Identify high consumers\n",
        "high_by_family = df.groupby('Family_Size')['Total_Energy'].mean().sort_values(ascending=False)\n",
        "income_bins = pd.cut(df['Monthly_Income'], bins=[0, 30000, 60000, 90000, float('inf')],\n",
        "                     labels=['Low (<30k)', 'Medium (30-60k)', 'High (60-90k)', 'Very High (>90k)'])\n",
        "high_by_income = df.groupby(income_bins, observed=True)['Total_Energy'].mean().sort_values(ascending=False)\n",
        "high_by_appliances = df.groupby('Appliances_Count')['Total_Energy'].mean().sort_values(ascending=False)"
      ]
    },
    {
      "cell_type": "code",
      "execution_count": 12,
      "metadata": {
        "colab": {
          "base_uri": "https://localhost:8080/",
          "height": 559
        },
        "id": "gCfzBHKGiqyY",
        "outputId": "603213d9-01ae-4965-8884-fe0c063e6f0d"
      },
      "outputs": [
        {
          "data": {
            "image/png": "[encoded data removed]",
            "text/plain": [
              "<Figure size 1000x600 with 1 Axes>"
            ]
          },
          "metadata": {},
          "output_type": "display_data"
        }
      ],
      "source": [
        "# Step 6: Visualize (plots shown inline in Colab)\n",
        "plt.figure(figsize=(10, 6))\n",
        "high_by_family.plot(kind='bar', color='blue')\n",
        "plt.title('Average Total Energy by Family Size')\n",
        "plt.ylabel('Total Energy (kWh)')\n",
        "plt.xlabel('Family Size')\n",
        "plt.show()  # Displays inline"
      ]
    },
    {
      "cell_type": "code",
      "execution_count": 13,
      "metadata": {
        "colab": {
          "base_uri": "https://localhost:8080/",
          "height": 670
        },
        "id": "P4_4Re_eixco",
        "outputId": "f270ef3b-78f2-4853-e441-6ae01b9e01eb"
      },
      "outputs": [
        {
          "data": {
            "image/png": "[encoded data removed]",
            "text/plain": [
              "<Figure size 1000x600 with 1 Axes>"
            ]
          },
          "metadata": {},
          "output_type": "display_data"
        }
      ],
      "source": [
        "plt.figure(figsize=(10, 6))\n",
        "high_by_income.plot(kind='bar', color='green')\n",
        "plt.title('Average Total Energy by Income Level')\n",
        "plt.ylabel('Total Energy (kWh)')\n",
        "plt.xlabel('Income Level')\n",
        "plt.show()"
      ]
    },
    {
      "cell_type": "code",
      "execution_count": 14,
      "metadata": {
        "colab": {
          "base_uri": "https://localhost:8080/",
          "height": 568
        },
        "id": "CZ1Bnrgqi4bf",
        "outputId": "98898375-90b8-427a-c536-8f6bcd48cb2f"
      },
      "outputs": [
        {
          "data": {
            "image/png": "[encoded data removed]",
            "text/plain": [
              "<Figure size 1000x600 with 1 Axes>"
            ]
          },
          "metadata": {},
          "output_type": "display_data"
        }
      ],
      "source": [
        "plt.figure(figsize=(10, 6))\n",
        "high_by_appliances.plot(kind='bar', color='orange')\n",
        "plt.title('Average Total Energy by Appliances Count')\n",
        "plt.ylabel('Total Energy (kWh)')\n",
        "plt.xlabel('Appliances Count')\n",
        "plt.show()"
      ]
    },
    {
      "cell_type": "code",
      "execution_count": 15,
      "metadata": {
        "colab": {
          "base_uri": "https://localhost:8080/",
          "height": 34
        },
        "id": "6RF4eqbxi7ih",
        "outputId": "4adf2cda-abfb-4159-d887-dc23735b03f8"
      },
      "outputs": [
        {
          "data": {
            "text/plain": [
              "<Figure size 640x480 with 0 Axes>"
            ]
          },
          "metadata": {},
          "output_type": "display_data"
        }
      ],
      "source": [
        "# Save plots as PNG for Git (downloads in Colab)\n",
        "plt.savefig('energy_by_family.png')\n",
        "plt.savefig('energy_by_income.png')\n",
        "plt.savefig('energy_by_appliances.png')"
      ]
    },
    {
      "cell_type": "code",
      "execution_count": 16,
      "metadata": {
        "id": "lZ-NJ87rjGvA"
      },
      "outputs": [],
      "source": [
        "# Step 7: Excel workbook (saves file; download from Colab files)\n",
        "with pd.ExcelWriter('analysis.xlsx') as writer:\n",
        "    df.to_excel(writer, sheet_name='Raw Data', index=False)\n",
        "    monthly_avg.to_excel(writer, sheet_name='Monthly Averages')\n",
        "    high_by_family.to_excel(writer, sheet_name='By Family Size')\n",
        "    high_by_income.to_excel(writer, sheet_name='By Income')\n",
        "    high_by_appliances.to_excel(writer, sheet_name='By Appliances')"
      ]
    },
    {
      "cell_type": "code",
      "execution_count": 17,
      "metadata": {
        "id": "azdNliEvjNQX"
      },
      "outputs": [],
      "source": [
        "# Summary (save as txt; download from Colab)\n",
        "summary = f\"\"\"\n",
        "Findings:\n",
        "- Average electricity usage: {avg_electricity:.2f} kWh, gas: {avg_gas:.2f}, total: {avg_total:.2f}.\n",
        "- Highest monthly usage in February ({monthly_avg['Total_Energy'].max():.2f} kWh), possibly due to heating.\n",
        "- Weak correlations: Family size ({correlation_family:.2f}), Income ({correlation_income:.2f}), Appliances ({correlation_appliances:.2f}) – suggests other factors like location or habits dominate.\n",
        "- Highest consumers: 3-member families ({high_by_family.max():.2f} kWh), high-income (60-90k: {high_by_income.max():.2f} kWh), 7-appliance households ({high_by_appliances.max():.2f} kWh).\n",
        "\n",
        "Recommendations:\n",
        "- For mid-sized families (3-5 members): Promote shared energy monitoring apps and efficient heating/cooling.\n",
        "- For moderate-appliance households (7-12): Encourage unplugging unused devices and LED upgrades.\n",
        "- General: Subsidies for insulation in high-usage months (Feb/Oct); audits for low-correlation groups to identify hidden inefficiencies.\n",
        "\"\"\"\n",
        "with open('summary.txt', 'w') as f:\n",
        "    f.write(summary)"
      ]
    },
    {
      "cell_type": "code",
      "execution_count": 18,
      "metadata": {
        "colab": {
          "base_uri": "https://localhost:8080/"
        },
        "id": "XjhKPX0MjThw",
        "outputId": "05ca9a59-dfd0-4cdb-f29c-a1db544548b3"
      },
      "outputs": [
        {
          "name": "stdout",
          "output_type": "stream",
          "text": [
            "Analysis complete! Download 'analysis.xlsx', 'summary.txt', and PNGs from Colab files.\n",
            "\n",
            "Findings:\n",
            "- Average electricity usage: 301.34 kWh, gas: 123.26, total: 424.60.\n",
            "- Highest monthly usage in February (474.92 kWh), possibly due to heating.\n",
            "- Weak correlations: Family size (0.04), Income (0.02), Appliances (-0.01) – suggests other factors like location or habits dominate.\n",
            "- Highest consumers: 3-member families (448.94 kWh), high-income (60-90k: 431.95 kWh), 7-appliance households (462.00 kWh).\n",
            "\n",
            "Recommendations:\n",
            "- For mid-sized families (3-5 members): Promote shared energy monitoring apps and efficient heating/cooling.\n",
            "- For moderate-appliance households (7-12): Encourage unplugging unused devices and LED upgrades.\n",
            "- General: Subsidies for insulation in high-usage months (Feb/Oct); audits for low-correlation groups to identify hidden inefficiencies.\n",
            "\n"
          ]
        }
      ],
      "source": [
        "# Print confirmation\n",
        "print(\"Analysis complete! Download 'analysis.xlsx', 'summary.txt', and PNGs from Colab files.\")\n",
        "print(summary)  # View summary inline"
      ]
    }
  ],
  "metadata": {
    "colab": {
      "provenance": []
    },
    "kernelspec": {
      "display_name": "Python 3",
      "name": "python3"
    },
    "language_info": {
      "name": "python"
    }
  },
  "nbformat": 4,
  "nbformat_minor": 0
}
